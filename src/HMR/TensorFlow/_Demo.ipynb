{
 "cells": [
  {
   "cell_type": "markdown",
   "metadata": {},
   "source": [
    "Note that HMR requires the bounding box of the person in the image. The best performance is obtained when max length of the person in the image is roughly 150px.\n",
    "\n",
    "When only the image path is supplied, it assumes that the image is centered on a person whose length is roughly 150px.\n",
    "\n",
    "Alternatively, you can supply output of the openpose to figure out the bbox and the right scale factor.\n",
    "\n",
    "Sample usage:"
   ]
  },
  {
   "cell_type": "code",
   "execution_count": 1,
   "metadata": {},
   "outputs": [],
   "source": [
    "# # On images on a tightly cropped image around the person\n",
    "# python -m demo --img_path data/im1963.jpg\n",
    "# python -m demo --img_path data/coco1.png\n",
    "\n",
    "# # On images, with openpose output\n",
    "# python -m demo --img_path data/random.jpg --json_path data/random_keypoints.json"
   ]
  },
  {
   "cell_type": "code",
   "execution_count": 2,
   "metadata": {},
   "outputs": [],
   "source": [
    "from __future__ import absolute_import\n",
    "from __future__ import division\n",
    "from __future__ import print_function\n",
    "\n",
    "import sys\n",
    "from absl import flags\n",
    "import numpy as np\n",
    "\n",
    "import skimage.io as io\n",
    "import tensorflow as tf\n",
    "\n",
    "from src.util import renderer as vis_util\n",
    "from src.util import image as img_util\n",
    "from src.util import openpose as op_util\n",
    "import src.config\n",
    "from src.RunModel import RunModel"
   ]
  },
  {
   "cell_type": "code",
   "execution_count": 3,
   "metadata": {},
   "outputs": [],
   "source": [
    "flags.DEFINE_string('img_path', 'data/im1963.jpg', 'Image to run')\n",
    "flags.DEFINE_string(\n",
    "    'json_path', None,\n",
    "    'If specified, uses the openpose output to crop the image.')"
   ]
  },
  {
   "cell_type": "code",
   "execution_count": 4,
   "metadata": {},
   "outputs": [],
   "source": [
    "def visualize(img, proc_param, joints, verts, cam):\n",
    "    \"\"\"\n",
    "    Renders the result in original image coordinate frame.\n",
    "    \"\"\"\n",
    "    cam_for_render, vert_shifted, joints_orig = vis_util.get_original(\n",
    "        proc_param, verts, cam, joints, img_size=img.shape[:2])\n",
    "\n",
    "    # Render results\n",
    "    skel_img = vis_util.draw_skeleton(img, joints_orig)\n",
    "#     rend_img_overlay = renderer(\n",
    "#         vert_shifted, cam=cam_for_render, img=img, do_alpha=True)\n",
    "#     rend_img = renderer(\n",
    "#         vert_shifted, cam=cam_for_render, img_size=img.shape[:2])\n",
    "#     rend_img_vp1 = renderer.rotated(\n",
    "#         vert_shifted, 60, cam=cam_for_render, img_size=img.shape[:2])\n",
    "#     rend_img_vp2 = renderer.rotated(\n",
    "#         vert_shifted, -60, cam=cam_for_render, img_size=img.shape[:2])\n",
    "\n",
    "    import matplotlib.pyplot as plt\n",
    "    # plt.ion()\n",
    "    plt.figure(1)\n",
    "    plt.clf()\n",
    "    plt.subplot(231)\n",
    "    plt.imshow(img)\n",
    "    plt.title('input')\n",
    "    plt.axis('off')\n",
    "    plt.subplot(232)\n",
    "    plt.imshow(skel_img)\n",
    "    plt.title('joint projection')\n",
    "    plt.axis('off')\n",
    "#     plt.subplot(233)\n",
    "#     plt.imshow(rend_img_overlay)\n",
    "#     plt.title('3D Mesh overlay')\n",
    "#     plt.axis('off')\n",
    "#     plt.subplot(234)\n",
    "#     plt.imshow(rend_img)\n",
    "#     plt.title('3D mesh')\n",
    "#     plt.axis('off')\n",
    "#     plt.subplot(235)\n",
    "#     plt.imshow(rend_img_vp1)\n",
    "#     plt.title('diff vp')\n",
    "#     plt.axis('off')\n",
    "#     plt.subplot(236)\n",
    "#     plt.imshow(rend_img_vp2)\n",
    "#     plt.title('diff vp')\n",
    "#     plt.axis('off')\n",
    "#     plt.draw()\n",
    "#     plt.show()\n",
    "#     # import ipdb\n",
    "#     # ipdb.set_trace()"
   ]
  },
  {
   "cell_type": "code",
   "execution_count": 5,
   "metadata": {},
   "outputs": [],
   "source": [
    "def preprocess_image(img_path, json_path=None):\n",
    "    img = io.imread(img_path)\n",
    "    if img.shape[2] == 4:\n",
    "        img = img[:, :, :3]\n",
    "\n",
    "    if json_path is None:\n",
    "        if np.max(img.shape[:2]) != config.img_size:\n",
    "            print('Resizing so the max image size is %d..' % config.img_size)\n",
    "            scale = (float(config.img_size) / np.max(img.shape[:2]))\n",
    "        else:\n",
    "            scale = 1.\n",
    "        center = np.round(np.array(img.shape[:2]) / 2).astype(int)\n",
    "        # image center in (x,y)\n",
    "        center = center[::-1]\n",
    "    else:\n",
    "        scale, center = op_util.get_bbox(json_path)\n",
    "\n",
    "    crop, proc_param = img_util.scale_and_crop(img, scale, center,\n",
    "                                               config.img_size)\n",
    "\n",
    "    # Normalize image to [-1, 1]\n",
    "    crop = 2 * ((crop / 255.) - 0.5)\n",
    "\n",
    "    return crop, proc_param, img"
   ]
  },
  {
   "cell_type": "code",
   "execution_count": 6,
   "metadata": {},
   "outputs": [],
   "source": [
    "config = flags.FLAGS\n",
    "\n",
    "remaining_args = config([sys.argv[0]] + [flag for flag in sys.argv if flag.startswith(\"--\")])\n",
    "assert(remaining_args == [sys.argv[0]])"
   ]
  },
  {
   "cell_type": "code",
   "execution_count": 7,
   "metadata": {},
   "outputs": [],
   "source": [
    "# Using pre-trained model, change this to use your own.\n",
    "config.load_path = src.config.PRETRAINED_MODEL\n",
    "\n",
    "config.batch_size = 1\n",
    "\n",
    "# renderer = vis_util.SMPLRenderer(face_path=config.smpl_face_path)\n",
    "\n",
    "# main(config.img_path, config.json_path)\n"
   ]
  },
  {
   "cell_type": "code",
   "execution_count": 8,
   "metadata": {
    "scrolled": true
   },
   "outputs": [
    {
     "name": "stderr",
     "output_type": "stream",
     "text": [
      "W0308 09:45:49.778436  6808 deprecation_wrapper.py:119] From C:\\_Files\\MyProjects\\ASDS_3\\Photo_Wake-Up\\src\\HMR\\TensorFlow\\src\\RunModel.py:42: The name tf.placeholder is deprecated. Please use tf.compat.v1.placeholder instead.\n",
      "\n",
      "W0308 09:45:55.147192  6808 deprecation_wrapper.py:119] From C:\\_Files\\MyProjects\\ASDS_3\\Photo_Wake-Up\\src\\HMR\\TensorFlow\\src\\models.py:77: The name tf.variable_scope is deprecated. Please use tf.compat.v1.variable_scope instead.\n",
      "\n"
     ]
    },
    {
     "name": "stdout",
     "output_type": "stream",
     "text": [
      "Iteration 0\n"
     ]
    },
    {
     "name": "stderr",
     "output_type": "stream",
     "text": [
      "W0308 09:45:56.190569  6808 deprecation.py:323] From C:\\_Files\\MyProjects\\ASDS_3\\Photo_Wake-Up\\src\\HMR\\TensorFlow\\src\\tf_smpl\\batch_lbs.py:55: div (from tensorflow.python.ops.math_ops) is deprecated and will be removed in a future version.\n",
      "Instructions for updating:\n",
      "Deprecated in favor of operator or tf.math.divide.\n"
     ]
    },
    {
     "name": "stdout",
     "output_type": "stream",
     "text": [
      "Iteration 1\n",
      "Reuse is on!\n",
      "Iteration 2\n",
      "Reuse is on!\n"
     ]
    },
    {
     "name": "stderr",
     "output_type": "stream",
     "text": [
      "W0308 09:45:59.548091  6808 deprecation_wrapper.py:119] From C:\\_Files\\MyProjects\\ASDS_3\\Photo_Wake-Up\\src\\HMR\\TensorFlow\\src\\RunModel.py:70: The name tf.train.Saver is deprecated. Please use tf.compat.v1.train.Saver instead.\n",
      "\n",
      "W0308 09:46:00.062002  6808 deprecation.py:323] From C:\\ProgramData\\Anaconda3\\lib\\site-packages\\tensorflow\\python\\training\\saver.py:1276: checkpoint_exists (from tensorflow.python.training.checkpoint_management) is deprecated and will be removed in a future version.\n",
      "Instructions for updating:\n",
      "Use standard file APIs to check for files with this prefix.\n"
     ]
    },
    {
     "name": "stdout",
     "output_type": "stream",
     "text": [
      "Restoring checkpoint C:\\_Files\\MyProjects\\ASDS_3\\Photo_Wake-Up\\src\\HMR\\TensorFlow\\src\\..\\models\\model.ckpt-667589..\n"
     ]
    }
   ],
   "source": [
    "# def main(img_path, json_path=None):\n",
    "img_path=config.img_path\n",
    "json_path=config.json_path\n",
    "sess = tf.Session()\n",
    "model = RunModel(config, sess=sess)"
   ]
  },
  {
   "cell_type": "code",
   "execution_count": 9,
   "metadata": {},
   "outputs": [
    {
     "name": "stdout",
     "output_type": "stream",
     "text": [
      "Resizing so the max image size is 224..\n"
     ]
    }
   ],
   "source": [
    "input_img, proc_param, img = preprocess_image(img_path, json_path)\n",
    "# Add batch dimension: 1 x D x D x 3\n",
    "input_img = np.expand_dims(input_img, 0)\n",
    "\n",
    "# Theta is the 85D vector holding [camera, pose, shape]\n",
    "# where camera is 3D [s, tx, ty]\n",
    "# pose is 72D vector holding the rotation of 24 joints of SMPL in axis angle format\n",
    "# shape is 10D shape coefficients of SMPL\n",
    "joints, verts, cams, joints3d, theta = model.predict(input_img, get_theta=True)\n",
    "\n",
    "# visualize(img, proc_param, joints[0], verts[0], cams[0])"
   ]
  },
  {
   "cell_type": "code",
   "execution_count": 13,
   "metadata": {},
   "outputs": [],
   "source": [
    "def get_original(proc_param, verts, cam, joints, img_size):\n",
    "    img_size = proc_param['img_size']\n",
    "    undo_scale = 1. / np.array(proc_param['scale'])\n",
    "\n",
    "    cam_s = cam[0]\n",
    "    cam_pos = cam[1:]\n",
    "    principal_pt = np.array([img_size, img_size]) / 2.\n",
    "    flength = 500.\n",
    "    tz = flength / (0.5 * img_size * cam_s)\n",
    "    trans = np.hstack([cam_pos, tz])\n",
    "    vert_shifted = verts + trans\n",
    "\n",
    "    start_pt = proc_param['start_pt'] - 0.5 * img_size\n",
    "    final_principal_pt = (principal_pt + start_pt) * undo_scale\n",
    "    cam_for_render = np.hstack(\n",
    "        [np.mean(flength * undo_scale), final_principal_pt])\n",
    "\n",
    "    # This is in padded image.\n",
    "    # kp_original = (joints + proc_param['start_pt']) * undo_scale\n",
    "    # Subtract padding from joints.\n",
    "    margin = int(img_size / 2)\n",
    "    kp_original = (joints + proc_param['start_pt'] - margin) * undo_scale\n",
    "\n",
    "    return cam_for_render, vert_shifted, kp_original"
   ]
  },
  {
   "cell_type": "code",
   "execution_count": 12,
   "metadata": {},
   "outputs": [
    {
     "name": "stderr",
     "output_type": "stream",
     "text": [
      "C:\\_Files\\MyProjects\\ASDS_3\\Photo_Wake-Up\\src\\HMR\\TensorFlow\\src\\util\\renderer.py:329: FutureWarning: Conversion of the second argument of issubdtype from `float` to `np.floating` is deprecated. In future, it will be treated as `np.float64 == np.dtype(float).type`.\n",
      "  if np.issubdtype(image.dtype, np.float):\n"
     ]
    },
    {
     "data": {
      "image/png": "[encoded data removed]",
      "text/plain": [
       "<Figure size 432x288 with 2 Axes>"
      ]
     },
     "metadata": {
      "needs_background": "light"
     },
     "output_type": "display_data"
    }
   ],
   "source": [
    "# renderer = vis_util.SMPLRenderer(face_path=config.smpl_face_path)\n",
    "\n",
    "visualize(img, proc_param, joints[0], verts[0], cams[0])\n",
    "\n",
    "# img, proc_param, joints, verts, cam = img, proc_param, joints[0], verts[0], cams[0]\n",
    "\n",
    "# cam_for_render, vert_shifted, joints_orig = vis_util.get_original(\n",
    "#         proc_param, verts, cam, joints, img_size=img.shape[:2])"
   ]
  },
  {
   "cell_type": "code",
   "execution_count": null,
   "metadata": {},
   "outputs": [],
   "source": [
    "# print('proc params: ', proc_param)\n",
    "# print('joints: ', joints[0])\n",
    "# print('vertices; ', verts[0])\n",
    "# print('cameras: ', cams[0])\n",
    "# print('theta: ', theta)"
   ]
  },
  {
   "cell_type": "code",
   "execution_count": 14,
   "metadata": {},
   "outputs": [
    {
     "name": "stdout",
     "output_type": "stream",
     "text": [
      "shape of joints:  (19, 2)\n",
      "shape of 3D joints:  (19, 3)\n",
      "shape of vertices;  (6890, 3)\n",
      "shape of cameras:  (3,)\n",
      "shape of theta:  (85,)\n"
     ]
    }
   ],
   "source": [
    "print('shape of joints: ', joints[0].shape)\n",
    "print('shape of 3D joints: ', joints3d[0].shape)\n",
    "print('shape of vertices; ', verts[0].shape)\n",
    "print('shape of cameras: ', cams[0].shape)\n",
    "print('shape of theta: ', theta[0].shape)"
   ]
  },
  {
   "cell_type": "code",
   "execution_count": 15,
   "metadata": {},
   "outputs": [
    {
     "name": "stdout",
     "output_type": "stream",
     "text": [
      "overall shape of joints:  (1, 19, 2)\n",
      "overall shape of 3D joints:  (1, 19, 3)\n",
      "overall shape of vertices;  (1, 6890, 3)\n",
      "overall shape of cameras:  (1, 3)\n",
      "overall shape of theta:  (1, 85)\n"
     ]
    }
   ],
   "source": [
    "print('overall shape of joints: ', joints.shape)\n",
    "print('overall shape of 3D joints: ', joints3d.shape)\n",
    "print('overall shape of vertices; ', verts.shape)\n",
    "print('overall shape of cameras: ', cams.shape)\n",
    "print('overall shape of theta: ', theta.shape)"
   ]
  },
  {
   "cell_type": "code",
   "execution_count": null,
   "metadata": {},
   "outputs": [],
   "source": [
    "# num_cam = 3\n",
    "# num_theta = 72"
   ]
  },
  {
   "cell_type": "code",
   "execution_count": null,
   "metadata": {},
   "outputs": [],
   "source": [
    "# cams = theta[:, :num_cam]\n",
    "# poses = theta[:, num_cam:(num_cam + num_theta)]\n",
    "# shapes = theta[:, (num_cam + num_theta):]"
   ]
  },
  {
   "cell_type": "code",
   "execution_count": null,
   "metadata": {},
   "outputs": [],
   "source": [
    "# cams"
   ]
  },
  {
   "cell_type": "code",
   "execution_count": null,
   "metadata": {},
   "outputs": [],
   "source": [
    "# poses"
   ]
  }
 ],
 "metadata": {
  "kernelspec": {
   "display_name": "Python 3",
   "language": "python",
   "name": "python3"
  },
  "language_info": {
   "codemirror_mode": {
    "name": "ipython",
    "version": 3
   },
   "file_extension": ".py",
   "mimetype": "text/x-python",
   "name": "python",
   "nbconvert_exporter": "python",
   "pygments_lexer": "ipython3",
   "version": "3.7.3"
  }
 },
 "nbformat": 4,
 "nbformat_minor": 2
}

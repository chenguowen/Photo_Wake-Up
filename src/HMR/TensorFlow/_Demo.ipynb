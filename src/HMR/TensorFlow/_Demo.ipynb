{
 "cells": [
  {
   "cell_type": "markdown",
   "metadata": {},
   "source": [
    "Note that HMR requires the bounding box of the person in the image. The best performance is obtained when max length of the person in the image is roughly 150px.\n",
    "\n",
    "When only the image path is supplied, it assumes that the image is centered on a person whose length is roughly 150px.\n",
    "\n",
    "Alternatively, you can supply output of the openpose to figure out the bbox and the right scale factor.\n",
    "\n",
    "Sample usage:"
   ]
  },
  {
   "cell_type": "code",
   "execution_count": 1,
   "metadata": {},
   "outputs": [],
   "source": [
    "# # On images on a tightly cropped image around the person\n",
    "# python -m demo --img_path data/im1963.jpg\n",
    "# python -m demo --img_path data/coco1.png\n",
    "\n",
    "# # On images, with openpose output\n",
    "# python -m demo --img_path data/random.jpg --json_path data/random_keypoints.json"
   ]
  },
  {
   "cell_type": "code",
   "execution_count": 2,
   "metadata": {},
   "outputs": [],
   "source": [
    "from __future__ import absolute_import\n",
    "from __future__ import division\n",
    "from __future__ import print_function\n",
    "\n",
    "import sys\n",
    "from absl import flags\n",
    "import numpy as np\n",
    "\n",
    "import skimage.io as io\n",
    "import tensorflow as tf\n",
    "\n",
    "from src.util import renderer as vis_util\n",
    "from src.util import image as img_util\n",
    "from src.util import openpose as op_util\n",
    "import src.config\n",
    "from src.RunModel import RunModel"
   ]
  },
  {
   "cell_type": "code",
   "execution_count": 3,
   "metadata": {},
   "outputs": [],
   "source": [
    "flags.DEFINE_string('img_path', 'data/im1963.jpg', 'Image to run')\n",
    "flags.DEFINE_string(\n",
    "    'json_path', None,\n",
    "    'If specified, uses the openpose output to crop the image.')"
   ]
  },
  {
   "cell_type": "code",
   "execution_count": 4,
   "metadata": {},
   "outputs": [],
   "source": [
    "# def visualize(img, proc_param, joints, verts, cam):\n",
    "#     \"\"\"\n",
    "#     Renders the result in original image coordinate frame.\n",
    "#     \"\"\"\n",
    "#     cam_for_render, vert_shifted, joints_orig = vis_util.get_original(\n",
    "#         proc_param, verts, cam, joints, img_size=img.shape[:2])\n",
    "\n",
    "#     # Render results\n",
    "#     skel_img = vis_util.draw_skeleton(img, joints_orig)\n",
    "#     rend_img_overlay = renderer(\n",
    "#         vert_shifted, cam=cam_for_render, img=img, do_alpha=True)\n",
    "#     rend_img = renderer(\n",
    "#         vert_shifted, cam=cam_for_render, img_size=img.shape[:2])\n",
    "#     rend_img_vp1 = renderer.rotated(\n",
    "#         vert_shifted, 60, cam=cam_for_render, img_size=img.shape[:2])\n",
    "#     rend_img_vp2 = renderer.rotated(\n",
    "#         vert_shifted, -60, cam=cam_for_render, img_size=img.shape[:2])\n",
    "\n",
    "#     import matplotlib.pyplot as plt\n",
    "#     # plt.ion()\n",
    "#     plt.figure(1)\n",
    "#     plt.clf()\n",
    "#     plt.subplot(231)\n",
    "#     plt.imshow(img)\n",
    "#     plt.title('input')\n",
    "#     plt.axis('off')\n",
    "#     plt.subplot(232)\n",
    "#     plt.imshow(skel_img)\n",
    "#     plt.title('joint projection')\n",
    "#     plt.axis('off')\n",
    "#     plt.subplot(233)\n",
    "#     plt.imshow(rend_img_overlay)\n",
    "#     plt.title('3D Mesh overlay')\n",
    "#     plt.axis('off')\n",
    "#     plt.subplot(234)\n",
    "#     plt.imshow(rend_img)\n",
    "#     plt.title('3D mesh')\n",
    "#     plt.axis('off')\n",
    "#     plt.subplot(235)\n",
    "#     plt.imshow(rend_img_vp1)\n",
    "#     plt.title('diff vp')\n",
    "#     plt.axis('off')\n",
    "#     plt.subplot(236)\n",
    "#     plt.imshow(rend_img_vp2)\n",
    "#     plt.title('diff vp')\n",
    "#     plt.axis('off')\n",
    "#     plt.draw()\n",
    "#     plt.show()\n",
    "#     # import ipdb\n",
    "#     # ipdb.set_trace()"
   ]
  },
  {
   "cell_type": "code",
   "execution_count": 5,
   "metadata": {},
   "outputs": [],
   "source": [
    "def preprocess_image(img_path, json_path=None):\n",
    "    img = io.imread(img_path)\n",
    "    if img.shape[2] == 4:\n",
    "        img = img[:, :, :3]\n",
    "\n",
    "    if json_path is None:\n",
    "        if np.max(img.shape[:2]) != config.img_size:\n",
    "            print('Resizing so the max image size is %d..' % config.img_size)\n",
    "            scale = (float(config.img_size) / np.max(img.shape[:2]))\n",
    "        else:\n",
    "            scale = 1.\n",
    "        center = np.round(np.array(img.shape[:2]) / 2).astype(int)\n",
    "        # image center in (x,y)\n",
    "        center = center[::-1]\n",
    "    else:\n",
    "        scale, center = op_util.get_bbox(json_path)\n",
    "\n",
    "    crop, proc_param = img_util.scale_and_crop(img, scale, center,\n",
    "                                               config.img_size)\n",
    "\n",
    "    # Normalize image to [-1, 1]\n",
    "    crop = 2 * ((crop / 255.) - 0.5)\n",
    "\n",
    "    return crop, proc_param, img"
   ]
  },
  {
   "cell_type": "code",
   "execution_count": 6,
   "metadata": {},
   "outputs": [],
   "source": [
    "config = flags.FLAGS"
   ]
  },
  {
   "cell_type": "code",
   "execution_count": 7,
   "metadata": {},
   "outputs": [],
   "source": [
    "remaining_args = config([sys.argv[0]] + [flag for flag in sys.argv if flag.startswith(\"--\")])\n",
    "assert(remaining_args == [sys.argv[0]])"
   ]
  },
  {
   "cell_type": "code",
   "execution_count": 8,
   "metadata": {},
   "outputs": [],
   "source": [
    "# config(sys.argv)"
   ]
  },
  {
   "cell_type": "code",
   "execution_count": 9,
   "metadata": {},
   "outputs": [],
   "source": [
    "# Using pre-trained model, change this to use your own.\n",
    "config.load_path = src.config.PRETRAINED_MODEL\n",
    "\n",
    "config.batch_size = 1\n",
    "\n",
    "# renderer = vis_util.SMPLRenderer(face_path=config.smpl_face_path)\n",
    "\n",
    "# main(config.img_path, config.json_path)\n"
   ]
  },
  {
   "cell_type": "code",
   "execution_count": 10,
   "metadata": {
    "scrolled": false
   },
   "outputs": [
    {
     "name": "stderr",
     "output_type": "stream",
     "text": [
      "W0227 23:23:30.704256 13820 deprecation_wrapper.py:119] From C:\\_Files\\MyProjects\\ASDS_3\\Photo_Wake-Up\\src\\HMR\\TensorFlow\\src\\RunModel.py:42: The name tf.placeholder is deprecated. Please use tf.compat.v1.placeholder instead.\n",
      "\n",
      "W0227 23:23:33.047132 13820 deprecation_wrapper.py:119] From C:\\_Files\\MyProjects\\ASDS_3\\Photo_Wake-Up\\src\\HMR\\TensorFlow\\src\\models.py:77: The name tf.variable_scope is deprecated. Please use tf.compat.v1.variable_scope instead.\n",
      "\n"
     ]
    },
    {
     "name": "stdout",
     "output_type": "stream",
     "text": [
      "Iteration 0\n"
     ]
    },
    {
     "name": "stderr",
     "output_type": "stream",
     "text": [
      "W0227 23:23:33.413739 13820 deprecation.py:323] From C:\\_Files\\MyProjects\\ASDS_3\\Photo_Wake-Up\\src\\HMR\\TensorFlow\\src\\tf_smpl\\batch_lbs.py:55: div (from tensorflow.python.ops.math_ops) is deprecated and will be removed in a future version.\n",
      "Instructions for updating:\n",
      "Deprecated in favor of operator or tf.math.divide.\n"
     ]
    },
    {
     "name": "stdout",
     "output_type": "stream",
     "text": [
      "Iteration 1\n",
      "Reuse is on!\n",
      "Iteration 2\n",
      "Reuse is on!\n"
     ]
    },
    {
     "name": "stderr",
     "output_type": "stream",
     "text": [
      "W0227 23:23:34.473660 13820 deprecation_wrapper.py:119] From C:\\_Files\\MyProjects\\ASDS_3\\Photo_Wake-Up\\src\\HMR\\TensorFlow\\src\\RunModel.py:70: The name tf.train.Saver is deprecated. Please use tf.compat.v1.train.Saver instead.\n",
      "\n",
      "W0227 23:23:34.660108 13820 deprecation.py:323] From C:\\ProgramData\\Anaconda3\\lib\\site-packages\\tensorflow\\python\\training\\saver.py:1276: checkpoint_exists (from tensorflow.python.training.checkpoint_management) is deprecated and will be removed in a future version.\n",
      "Instructions for updating:\n",
      "Use standard file APIs to check for files with this prefix.\n"
     ]
    },
    {
     "name": "stdout",
     "output_type": "stream",
     "text": [
      "Restoring checkpoint C:\\_Files\\MyProjects\\ASDS_3\\Photo_Wake-Up\\src\\HMR\\TensorFlow\\src\\..\\models\\model.ckpt-667589..\n"
     ]
    }
   ],
   "source": [
    "# def main(img_path, json_path=None):\n",
    "img_path=config.img_path\n",
    "json_path=config.json_path\n",
    "sess = tf.Session()\n",
    "model = RunModel(config, sess=sess)"
   ]
  },
  {
   "cell_type": "code",
   "execution_count": 11,
   "metadata": {},
   "outputs": [
    {
     "name": "stdout",
     "output_type": "stream",
     "text": [
      "Resizing so the max image size is 224..\n"
     ]
    }
   ],
   "source": [
    "input_img, proc_param, img = preprocess_image(img_path, json_path)\n",
    "# Add batch dimension: 1 x D x D x 3\n",
    "input_img = np.expand_dims(input_img, 0)\n",
    "\n",
    "# Theta is the 85D vector holding [camera, pose, shape]\n",
    "# where camera is 3D [s, tx, ty]\n",
    "# pose is 72D vector holding the rotation of 24 joints of SMPL in axis angle format\n",
    "# shape is 10D shape coefficients of SMPL\n",
    "joints, verts, cams, joints3d, theta = model.predict(\n",
    "    input_img, get_theta=True)\n",
    "\n",
    "# visualize(img, proc_param, joints[0], verts[0], cams[0])"
   ]
  },
  {
   "cell_type": "code",
   "execution_count": 12,
   "metadata": {},
   "outputs": [
    {
     "name": "stdout",
     "output_type": "stream",
     "text": [
      "proc params:  {'scale': 1.4088050314465408, 'start_pt': array([112,  68]), 'end_pt': array([336, 292]), 'img_size': 224}\n",
      "joints:  [[ 32.06795  140.72649 ]\n",
      " [ 73.78502  113.38104 ]\n",
      " [103.38444   72.01409 ]\n",
      " [109.91133   73.48858 ]\n",
      " [ 83.33781  115.9165  ]\n",
      " [ 41.370445 142.30145 ]\n",
      " [175.27367  143.25969 ]\n",
      " [165.14287  112.649704]\n",
      " [161.22424   80.32551 ]\n",
      " [159.80148   77.228546]\n",
      " [154.78026  108.06112 ]\n",
      " [168.35434  135.01814 ]\n",
      " [165.64624   77.28819 ]\n",
      " [190.89182   79.25426 ]\n",
      " [179.96492   90.47428 ]\n",
      " [184.19102   84.35532 ]\n",
      " [184.7576    90.15795 ]\n",
      " [181.67886   73.14963 ]\n",
      " [182.66008   85.88108 ]]\n",
      "vertices;  [[ 0.71302354 -0.18414527  0.10629456]\n",
      " [ 0.69966346 -0.17387116  0.10655451]\n",
      " [ 0.6944859  -0.1877892   0.10817218]\n",
      " ...\n",
      " [ 0.6645237  -0.15919268 -0.05238074]\n",
      " [ 0.66643304 -0.15805858 -0.05126441]\n",
      " [ 0.66423136 -0.15391274 -0.05141819]]\n",
      "cameras:  [ 1.0587609  -0.05779588 -0.06080284]\n",
      "theta:  [[ 1.05876088e+00 -5.77958822e-02 -6.08028397e-02  2.87064052e+00\n",
      "   1.47014046e+00  2.28258252e+00 -6.39685869e-01 -1.49936050e-01\n",
      "   1.15612090e-01 -5.49726427e-01 -1.06940344e-01  7.41420165e-02\n",
      "   7.40774155e-01  3.37921008e-02  1.94095820e-02  4.67810124e-01\n",
      "  -2.03555122e-01 -2.04440318e-02  3.47194135e-01 -4.90894355e-02\n",
      "   1.28405809e-01 -1.03421636e-01  5.34838252e-03 -2.91762769e-01\n",
      "  -2.04839617e-01  1.10791653e-01  6.17035180e-02 -2.89090812e-01\n",
      "  -2.79882044e-01  1.82631969e-01  2.05773730e-02  5.34155332e-02\n",
      "   4.67788652e-02 -3.82160917e-02  2.56355405e-01  4.40841541e-02\n",
      "   1.20179266e-01  2.49963030e-01 -2.85045028e-01 -1.32743388e-01\n",
      "   3.69215220e-01 -1.38474971e-01 -2.90131152e-01 -7.85077631e-01\n",
      "   1.24007985e-01 -1.70186073e-01  8.69843304e-01 -3.07783216e-01\n",
      "  -2.86988914e-04  3.01018625e-01  8.26492161e-03 -2.65108973e-01\n",
      "  -6.88358068e-01 -3.19321513e-01 -5.54567575e-01  7.40883231e-01\n",
      "   5.99541701e-02  1.24706812e-01 -6.32395983e-01  3.84323627e-01\n",
      "   4.36656103e-02 -1.13397613e-01 -1.44067675e-01  3.67518425e-01\n",
      "  -1.14268780e-01  2.80615330e-01  6.69829667e-01  1.76995769e-02\n",
      "  -2.94939697e-01 -3.29560637e-02 -9.96451732e-03  1.08202294e-01\n",
      "  -8.64454210e-02  9.96496528e-02  1.48371495e-02  1.23016953e-01\n",
      "   3.01465839e-01  6.03579640e-01  2.60362387e+00  2.64549899e+00\n",
      "  -4.53568012e-01 -6.03600800e-01  6.86819315e-01  1.62987220e+00\n",
      "  -8.64522606e-02]]\n"
     ]
    }
   ],
   "source": [
    "print('proc params: ', proc_param)\n",
    "print('joints: ', joints[0])\n",
    "print('vertices; ', verts[0])\n",
    "print('cameras: ', cams[0])\n",
    "print('theta: ', theta)"
   ]
  },
  {
   "cell_type": "code",
   "execution_count": 13,
   "metadata": {},
   "outputs": [
    {
     "name": "stdout",
     "output_type": "stream",
     "text": [
      "shape of joints:  (19, 2)\n",
      "shape of 3D joints:  (19, 3)\n",
      "shape of vertices;  (6890, 3)\n",
      "shape of cameras:  (3,)\n",
      "shape of theta:  (85,)\n"
     ]
    }
   ],
   "source": [
    "print('shape of joints: ', joints[0].shape)\n",
    "print('shape of 3D joints: ', joints3d[0].shape)\n",
    "print('shape of vertices; ', verts[0].shape)\n",
    "print('shape of cameras: ', cams[0].shape)\n",
    "print('shape of theta: ', theta[0].shape)"
   ]
  },
  {
   "cell_type": "code",
   "execution_count": 14,
   "metadata": {},
   "outputs": [
    {
     "name": "stdout",
     "output_type": "stream",
     "text": [
      "overall shape of joints:  (1, 19, 2)\n",
      "overall shape of 3D joints:  (1, 19, 3)\n",
      "overall shape of vertices;  (1, 6890, 3)\n",
      "overall shape of cameras:  (1, 3)\n",
      "overall shape of theta:  (1, 85)\n"
     ]
    }
   ],
   "source": [
    "print('overall shape of joints: ', joints.shape)\n",
    "print('overall shape of 3D joints: ', joints3d.shape)\n",
    "print('overall shape of vertices; ', verts.shape)\n",
    "print('overall shape of cameras: ', cams.shape)\n",
    "print('overall shape of theta: ', theta.shape)"
   ]
  }
 ],
 "metadata": {
  "kernelspec": {
   "display_name": "Python 3",
   "language": "python",
   "name": "python3"
  },
  "language_info": {
   "codemirror_mode": {
    "name": "ipython",
    "version": 3
   },
   "file_extension": ".py",
   "mimetype": "text/x-python",
   "name": "python",
   "nbconvert_exporter": "python",
   "pygments_lexer": "ipython3",
   "version": "3.7.3"
  }
 },
 "nbformat": 4,
 "nbformat_minor": 2
}

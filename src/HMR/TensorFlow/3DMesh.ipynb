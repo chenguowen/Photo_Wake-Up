{
 "cells": [
  {
   "cell_type": "code",
   "execution_count": 2,
   "metadata": {},
   "outputs": [],
   "source": [
    "import sys\n",
    "import os\n",
    "import tensorflow as tf\n",
    "import numpy as np\n",
    "import json\n",
    "import tensorflow as tf\n",
    "\n",
    "from src.tf_smpl_original.batch_smpl import SMPL"
   ]
  },
  {
   "cell_type": "code",
   "execution_count": 3,
   "metadata": {},
   "outputs": [],
   "source": [
    "smpl_model_path = './models/neutral_smpl_with_cocoplus_reg.pkl'\n",
    "smpl_face_path = './src/tf_smpl_original/smpl_faces.npy'\n",
    "result_path = './results'\n",
    "\n",
    "smpl_model = SMPL(smpl_model_path)"
   ]
  },
  {
   "cell_type": "code",
   "execution_count": 4,
   "metadata": {},
   "outputs": [],
   "source": [
    "with open('./results/HMR_value_out.json') as json_file:\n",
    "    data = json.load(json_file)"
   ]
  },
  {
   "cell_type": "code",
   "execution_count": null,
   "metadata": {},
   "outputs": [],
   "source": [
    "# betas = np.random.randn(1, 10).astype(np.float32) * 0.1\n",
    "# thetas = np.random.randn(1, 72).astype(np.float32) * 0.2"
   ]
  },
  {
   "cell_type": "code",
   "execution_count": 5,
   "metadata": {},
   "outputs": [
    {
     "name": "stdout",
     "output_type": "stream",
     "text": [
      "(1, 10)\n",
      "(1, 72)\n",
      "WARNING:tensorflow:From /home/levon/MyProjects/Photo_Wake-Up/src/HMR/TensorFlow/src/tf_smpl_original/batch_smpl.py:96: The name tf.variable_scope is deprecated. Please use tf.compat.v1.variable_scope instead.\n",
      "\n",
      "WARNING:tensorflow:From /home/levon/MyProjects/Photo_Wake-Up/src/HMR/TensorFlow/src/tf_smpl_original/batch_lbs.py:46: div (from tensorflow.python.ops.math_ops) is deprecated and will be removed in a future version.\n",
      "Instructions for updating:\n",
      "Deprecated in favor of operator or tf.math.divide.\n"
     ]
    }
   ],
   "source": [
    "betas = np.array(data[0][0][3:13]).astype(np.float32).reshape((1, 10))\n",
    "thetas = np.array(data[0][0][13:]).astype(np.float32).reshape((1, 72))\n",
    "\n",
    "print(betas.shape)\n",
    "print(thetas.shape)\n",
    "\n",
    "verts, _, _ = smpl_model(betas, thetas, get_skin=True)\n",
    "verts = verts[0]\n",
    "\n",
    "config = tf.ConfigProto()\n",
    "config.gpu_options.allow_growth = True  # pylint: disable=no-member\n",
    "sess = tf.Session(config=config)\n",
    "result = sess.run(verts)\n",
    "\n",
    "faces = np.load(smpl_face_path)\n",
    "\n",
    "outmesh_path = os.path.join(result_path, 'smpl_tf.obj')\n",
    "with open(outmesh_path, 'w') as fp:\n",
    "    for v in result:\n",
    "        fp.write('v %f %f %f\\n' % (v[0], v[1], v[2]))\n",
    "    for f in faces + 1:\n",
    "        fp.write('f %d %d %d\\n' % (f[0], f[1], f[2]))"
   ]
  },
  {
   "cell_type": "code",
   "execution_count": null,
   "metadata": {},
   "outputs": [],
   "source": []
  }
 ],
 "metadata": {
  "kernelspec": {
   "display_name": "Python 3",
   "language": "python",
   "name": "python3"
  },
  "language_info": {
   "codemirror_mode": {
    "name": "ipython",
    "version": 3
   },
   "file_extension": ".py",
   "mimetype": "text/x-python",
   "name": "python",
   "nbconvert_exporter": "python",
   "pygments_lexer": "ipython3",
   "version": "3.6.9"
  }
 },
 "nbformat": 4,
 "nbformat_minor": 4
}

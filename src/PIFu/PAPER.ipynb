{
 "cells": [
  {
   "cell_type": "markdown",
   "metadata": {},
   "source": [
    "# <div align=\"center\">PIFu: Pixel-Aligned Implicit Function for High-Resolution Clothed Human Digitization</div>\n",
    "---------------------------------------------------------------------\n",
    "\n",
    "you can Find me on Github:\n",
    "> ###### [ GitHub](https://github.com/lev1khachatryan)\n"
   ]
  },
  {
   "cell_type": "markdown",
   "metadata": {},
   "source": [
    " "
   ]
  },
  {
   "cell_type": "markdown",
   "metadata": {},
   "source": [
    "Given a single or multi-view images, our goal is to reconstruct the underlining ***3D geometry*** and ***texture*** of a clothed human while preserving the detail present in the image. ***PIFu is a memory efficient and spatiallyaligned 3D representation for 3D surfaces.*** An implicit function defines a surface as a <font color=red>level set of a function f </font>, e.g. f(X) = 0. \n",
    "\n",
    "The proposed pixel-aligned implicit function consists of a ***fully convolutional image encoder g*** and a continuous implicit function f represented by multi-layer perceptrons\n",
    "(MLPs), where the surface is defined as a level set of"
   ]
  }
 ],
 "metadata": {
  "kernelspec": {
   "display_name": "Python 3",
   "language": "python",
   "name": "python3"
  },
  "language_info": {
   "codemirror_mode": {
    "name": "ipython",
    "version": 3
   },
   "file_extension": ".py",
   "mimetype": "text/x-python",
   "name": "python",
   "nbconvert_exporter": "python",
   "pygments_lexer": "ipython3",
   "version": "3.7.3"
  }
 },
 "nbformat": 4,
 "nbformat_minor": 2
}

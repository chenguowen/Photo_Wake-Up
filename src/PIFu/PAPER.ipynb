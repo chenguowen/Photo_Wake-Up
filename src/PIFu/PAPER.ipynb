{
 "cells": [
  {
   "cell_type": "markdown",
   "metadata": {},
   "source": [
    "# <div align=\"center\">PIFu: Pixel-Aligned Implicit Function for High-Resolution Clothed Human Digitization</div>\n",
    "---------------------------------------------------------------------\n",
    "\n",
    "you can Find me on Github:\n",
    "> ###### [ GitHub](https://github.com/lev1khachatryan)\n"
   ]
  },
  {
   "cell_type": "markdown",
   "metadata": {},
   "source": [
    " "
   ]
  },
  {
   "cell_type": "markdown",
   "metadata": {},
   "source": [
    "***PIFu is a memory efficient and spatiallyaligned 3D representation for 3D surfaces.*** An implicit function defines a surface as a level set of a function f, e.g. $f(X) = 0$. "
   ]
  },
  {
   "cell_type": "markdown",
   "metadata": {},
   "source": [
    " "
   ]
  },
  {
   "cell_type": "markdown",
   "metadata": {},
   "source": [
    "> In mathematics, a ***level set*** of a real-valued function f of n real variables is a set of the form $L_c(f) = \\{ (x_1, x_2, ..., x_n) | f(x_1, x_2, ..., x_n) = c \\}$, that is, a set where the function takes on a given constant value c. When the number of variables is two, a level set is generically a curve, called a ***level curve***, ***contour line***, or ***isoline***. So a level curve is the set of all real-valued solutions of an equation in two variables x1 and x2. When n = 3, a level set is called a ***level surface*** or ***isosurface***, and for higher values of n the level set is a level ***hypersurface***. So a level surface is the set of all real-valued roots of an equation in three variables x1, x2 and x3, and a level hypersurface is the set of all real-valued roots of an equation in n (n > 3) variables."
   ]
  },
  {
   "cell_type": "markdown",
   "metadata": {},
   "source": [
    " "
   ]
  },
  {
   "cell_type": "markdown",
   "metadata": {},
   "source": [
    "The proposed pixel-aligned implicit function consists of a ***fully convolutional image encoder g*** and a ***continuous\n",
    "implicit function f represented by multi-layer perceptrons (MLPs)***, where the surface is defined as a level set of"
   ]
  },
  {
   "cell_type": "markdown",
   "metadata": {},
   "source": [
    "<div align=\"center\">$f(F(x), z(X)) = s : s \\in R \\tag{1}$</div>"
   ]
  },
  {
   "cell_type": "markdown",
   "metadata": {},
   "source": [
    "where \n",
    "\n",
    "* for 3D point $X, x = \\pi(X)$ is its 2D projection, \n",
    " \n",
    " \n",
    "* $z(X)$ is the depth value in the ***camera coordinate space***, \n",
    " \n",
    " \n",
    "* $F(x) = g(I(x))$ is the image feature at x"
   ]
  },
  {
   "cell_type": "markdown",
   "metadata": {},
   "source": [
    "> When you take a photograph, you need to move and rotate the camera to adjust the viewpoint. So in a way, when you transform a camera (by translating and rotating it — note that scaling a camera doesn't make much sense), what you actually do is transforming a local coordinate system which implicitly represents the transformations applied to that camera. In CG (computer graphics) we call this a ***camera coordinate*** system. <img src='assets/1.png'> A coordinate system $[i, j, k]$ centered at the pinhole $O$ such that the axis $k$ is perpendicular to the image plane and points toward it. "
   ]
  },
  {
   "cell_type": "markdown",
   "metadata": {},
   "source": [
    " "
   ]
  },
  {
   "cell_type": "markdown",
   "metadata": {},
   "source": [
    "We assume a ***weak-perspective camera***, but extending to perspective cameras is straightforward. Note that we obtain the pixelaligned feature F(x) using ***bilinear sampling***, because the 2D projection of X is defined in a continuous space rather\n",
    "than a discrete one (i.e., pixel)."
   ]
  },
  {
   "cell_type": "markdown",
   "metadata": {},
   "source": [
    " "
   ]
  },
  {
   "cell_type": "markdown",
   "metadata": {},
   "source": [
    "> ***3D projection*** or graphical projection maps points in 3D onto a 2D. We can represent the relationship between a point $P$ in 3D space and its $P'$ image coordinates by a matrix vector relationship: $P' = \\begin{bmatrix}\n",
    "       \\alpha & 0 & c_x & 0     \\\\[0.5em]\n",
    "       0 & \\beta & c_y &  0     \\\\[0.5em]\n",
    "       0 & 0 & 1 &  0           \\\\[0.5em]\n",
    "     \\end{bmatrix} P = MP = \\begin{bmatrix}\n",
    "       \\alpha & 0 & c_x     \\\\[0.5em]\n",
    "       0 & \\beta & c_y      \\\\[0.5em]\n",
    "       0 & 0 & 1           \\\\[0.5em]\n",
    "     \\end{bmatrix} \\;[I,\\; 0]\\; P = K \\;[I,\\; 0]\\; P$ and  $P = \\begin{bmatrix}\n",
    "       R & T     \\\\[0.5em]\n",
    "       0 & 1     \\\\[0.5em]\n",
    "     \\end{bmatrix} P_w$, so $P'= K \\;[R\\; T]\\; P_w$\n",
    "     \n",
    "> In the ***weak perspective model***, points are first projected to the camera cordinate space (reference plane) using orthogonal projection and then projected to the image plane using a projective transformation."
   ]
  },
  {
   "cell_type": "markdown",
   "metadata": {},
   "source": [
    " "
   ]
  },
  {
   "cell_type": "markdown",
   "metadata": {},
   "source": [
    "### <div align=\"center\">Single-view Surface Reconstruction</div>\n",
    "---------------------------------------------------------------------"
   ]
  },
  {
   "cell_type": "markdown",
   "metadata": {},
   "source": [
    " "
   ]
  },
  {
   "cell_type": "markdown",
   "metadata": {},
   "source": [
    "For surface reconstruction, we represent the ground truth surface as a ***0.5 level-set of a continuous 3D occupancy field***:"
   ]
  },
  {
   "cell_type": "markdown",
   "metadata": {},
   "source": []
  },
  {
   "cell_type": "markdown",
   "metadata": {},
   "source": []
  },
  {
   "cell_type": "markdown",
   "metadata": {},
   "source": []
  },
  {
   "cell_type": "markdown",
   "metadata": {},
   "source": []
  },
  {
   "cell_type": "markdown",
   "metadata": {},
   "source": []
  },
  {
   "cell_type": "markdown",
   "metadata": {},
   "source": []
  }
 ],
 "metadata": {
  "kernelspec": {
   "display_name": "Python 3",
   "language": "python",
   "name": "python3"
  },
  "language_info": {
   "codemirror_mode": {
    "name": "ipython",
    "version": 3
   },
   "file_extension": ".py",
   "mimetype": "text/x-python",
   "name": "python",
   "nbconvert_exporter": "python",
   "pygments_lexer": "ipython3",
   "version": "3.7.3"
  }
 },
 "nbformat": 4,
 "nbformat_minor": 2
}

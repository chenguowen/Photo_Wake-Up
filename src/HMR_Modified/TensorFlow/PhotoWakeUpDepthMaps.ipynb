{
 "cells": [
  {
   "cell_type": "code",
   "execution_count": 1,
   "metadata": {},
   "outputs": [],
   "source": [
    "from __future__ import absolute_import\n",
    "from __future__ import division\n",
    "from __future__ import print_function\n",
    "\n",
    "import sys\n",
    "from absl import flags\n",
    "import numpy as np\n",
    "\n",
    "import json\n",
    "import cv2\n",
    "\n",
    "import skimage.io as io\n",
    "import tensorflow as tf\n",
    "\n",
    "from src.util import depthRenderer as vis_util\n",
    "from src.util import image as img_util\n",
    "from src.util import openpose as op_util\n",
    "import src.config\n",
    "from src.RunModel import RunModel"
   ]
  },
  {
   "cell_type": "code",
   "execution_count": 2,
   "metadata": {},
   "outputs": [],
   "source": [
    "flags.DEFINE_string('img_path', 'data/im1963.jpg', 'Image to run')\n",
    "flags.DEFINE_string(\n",
    "    'json_path', None,\n",
    "    'If specified, uses the openpose output to crop the image.')"
   ]
  },
  {
   "cell_type": "code",
   "execution_count": 3,
   "metadata": {},
   "outputs": [],
   "source": [
    "def visualize(img, proc_param, joints, verts, cam, img_path):\n",
    "    \"\"\"\n",
    "    Renders the result in original image coordinate frame.\n",
    "    \"\"\"\n",
    "    cam_for_render, vert_shifted, joints_orig = vis_util.get_original(\n",
    "        proc_param, verts, cam, joints, img_size=img.shape[:2])\n",
    "\n",
    "    folder = '/'.join(img_path.split('/')[0:-1])\n",
    "    print(\"FOLDER!!!!!!!!!!!\")\n",
    "    print(folder)\n",
    "\n",
    "#     # Render results\n",
    "#     config = flags.FLAGS\n",
    "#     config(sys.argv)\n",
    "#     # Using pre-trained model, change this to use your own.\n",
    "#     config.load_path = src.config.PRETRAINED_MODEL\n",
    "\n",
    "#     config.batch_size = 1\n",
    "    renderer = vis_util.SMPLRenderer(face_path=config.smpl_face_path)\n",
    "\n",
    "    # skel_img = vis_util.draw_skeleton(img, joints_orig)\n",
    "    # rend_img_overlay = renderer(\n",
    "        # vert_shifted, cam=cam_for_render, img=img, do_alpha=True)\n",
    "    rend_img = renderer(\n",
    "        vert_shifted, cam=cam_for_render, img_size=img.shape[:2])\n",
    "    # rend_img_vp1 = renderer.rotated(\n",
    "    #     vert_shifted, 60, cam=cam_for_render, img_size=img.shape[:2])\n",
    "    rend_img_vp2 = renderer.rotated(\n",
    "        vert_shifted, 180, cam=cam_for_render, img_size=img.shape[:2])\n",
    "\n",
    "    depthMapPath = folder + '/depthMap.png'\n",
    "    print(\"Saving Depth Map to:\")\n",
    "    print(depthMapPath)\n",
    "\n",
    "    cv2.imwrite(depthMapPath, rend_img)\n",
    "    # cv2.imshow('Depth Map',rend_img)        \n",
    "    # cv2.waitKey(0)\n",
    "\n",
    "    depthMapPath = folder + '/depthMapBack.png'\n",
    "    print(\"Saving Depth Map to:\")\n",
    "    print(depthMapPath)    \n",
    "\n",
    "    cv2.imwrite(depthMapPath, rend_img_vp2)\n",
    "    # cv2.imshow('Depth Map',rend_img_vp2)        \n",
    "    # cv2.waitKey(0)\n",
    "\n",
    "    # cv2.destroyAllWindows()\n",
    "\n",
    "\n",
    "def preprocess_image(img_path, json_path=None):\n",
    "    img = io.imread(img_path)\n",
    "    if img.shape[2] == 4:\n",
    "        img = img[:, :, :3]\n",
    "\n",
    "    if json_path is None:\n",
    "        if np.max(img.shape[:2]) != config.img_size:\n",
    "            print('Resizing so the max image size is %d..' % config.img_size)\n",
    "            scale = (float(config.img_size) / np.max(img.shape[:2]))\n",
    "        else:\n",
    "            scale = 1.\n",
    "        center = np.round(np.array(img.shape[:2]) / 2).astype(int)\n",
    "        # image center in (x,y)\n",
    "        center = center[::-1]\n",
    "    else:\n",
    "        scale, center = op_util.get_bbox(json_path)\n",
    "\n",
    "    crop, proc_param = img_util.scale_and_crop(img, scale, center,\n",
    "                                               config.img_size)\n",
    "\n",
    "    # Normalize image to [-1, 1]\n",
    "    crop = 2 * ((crop / 255.) - 0.5)\n",
    "\n",
    "    return crop, proc_param, img"
   ]
  },
  {
   "cell_type": "code",
   "execution_count": 4,
   "metadata": {},
   "outputs": [],
   "source": [
    "config = flags.FLAGS\n",
    "\n",
    "remaining_args = config([sys.argv[0]] + [flag for flag in sys.argv if flag.startswith(\"--\")])\n",
    "assert(remaining_args == [sys.argv[0]])\n",
    "\n",
    "config.load_path = src.config.PRETRAINED_MODEL\n",
    "\n",
    "config.batch_size = 1"
   ]
  },
  {
   "cell_type": "code",
   "execution_count": 5,
   "metadata": {},
   "outputs": [
    {
     "name": "stderr",
     "output_type": "stream",
     "text": [
      "W0319 23:53:10.383591  6564 deprecation_wrapper.py:119] From C:\\_Files\\MyProjects\\ASDS_3\\Photo_Wake-Up\\src\\HMR_Modified\\TensorFlow\\src\\RunModel.py:42: The name tf.placeholder is deprecated. Please use tf.compat.v1.placeholder instead.\n",
      "\n",
      "W0319 23:53:15.635912  6564 deprecation_wrapper.py:119] From C:\\_Files\\MyProjects\\ASDS_3\\Photo_Wake-Up\\src\\HMR_Modified\\TensorFlow\\src\\models.py:77: The name tf.variable_scope is deprecated. Please use tf.compat.v1.variable_scope instead.\n",
      "\n"
     ]
    },
    {
     "name": "stdout",
     "output_type": "stream",
     "text": [
      "Iteration 0\n"
     ]
    },
    {
     "name": "stderr",
     "output_type": "stream",
     "text": [
      "W0319 23:53:16.405761  6564 deprecation.py:323] From C:\\_Files\\MyProjects\\ASDS_3\\Photo_Wake-Up\\src\\HMR_Modified\\TensorFlow\\src\\tf_smpl\\batch_lbs.py:55: div (from tensorflow.python.ops.math_ops) is deprecated and will be removed in a future version.\n",
      "Instructions for updating:\n",
      "Deprecated in favor of operator or tf.math.divide.\n"
     ]
    },
    {
     "name": "stdout",
     "output_type": "stream",
     "text": [
      "Iteration 1\n",
      "Reuse is on!\n",
      "Iteration 2\n",
      "Reuse is on!\n"
     ]
    },
    {
     "name": "stderr",
     "output_type": "stream",
     "text": [
      "W0319 23:53:19.016145  6564 deprecation_wrapper.py:119] From C:\\_Files\\MyProjects\\ASDS_3\\Photo_Wake-Up\\src\\HMR_Modified\\TensorFlow\\src\\RunModel.py:70: The name tf.train.Saver is deprecated. Please use tf.compat.v1.train.Saver instead.\n",
      "\n",
      "W0319 23:53:19.502724  6564 deprecation.py:323] From C:\\ProgramData\\Anaconda3\\lib\\site-packages\\tensorflow\\python\\training\\saver.py:1276: checkpoint_exists (from tensorflow.python.training.checkpoint_management) is deprecated and will be removed in a future version.\n",
      "Instructions for updating:\n",
      "Use standard file APIs to check for files with this prefix.\n"
     ]
    },
    {
     "name": "stdout",
     "output_type": "stream",
     "text": [
      "Restoring checkpoint C:\\_Files\\MyProjects\\ASDS_3\\Photo_Wake-Up\\src\\HMR_Modified\\TensorFlow\\src\\..\\models\\model.ckpt-667589..\n"
     ]
    }
   ],
   "source": [
    "sess = tf.Session()\n",
    "model = RunModel(config, sess=sess)"
   ]
  },
  {
   "cell_type": "code",
   "execution_count": 6,
   "metadata": {},
   "outputs": [
    {
     "name": "stdout",
     "output_type": "stream",
     "text": [
      "Resizing so the max image size is 224..\n"
     ]
    }
   ],
   "source": [
    "img_path=config.img_path\n",
    "json_path=config.json_path\n",
    "\n",
    "input_img, proc_param, img = preprocess_image(img_path, json_path)\n",
    "# Add batch dimension: 1 x D x D x 3\n",
    "input_img = np.expand_dims(input_img, 0)\n",
    "\n",
    "\n",
    "joints, verts, cams, joints3d, theta = model.predict(input_img, get_theta=True)"
   ]
  },
  {
   "cell_type": "code",
   "execution_count": 8,
   "metadata": {
    "scrolled": true
   },
   "outputs": [],
   "source": [
    "# visualize(img, proc_param, joints[0], verts[0], cams[0], img_path)"
   ]
  },
  {
   "cell_type": "code",
   "execution_count": 9,
   "metadata": {},
   "outputs": [],
   "source": [
    "theta_out = theta.tolist()\n",
    "with open('results/HMR_value_out.json', 'w') as outfile:\n",
    "    json.dump([theta_out], outfile)"
   ]
  }
 ],
 "metadata": {
  "kernelspec": {
   "display_name": "Python 3",
   "language": "python",
   "name": "python3"
  },
  "language_info": {
   "codemirror_mode": {
    "name": "ipython",
    "version": 3
   },
   "file_extension": ".py",
   "mimetype": "text/x-python",
   "name": "python",
   "nbconvert_exporter": "python",
   "pygments_lexer": "ipython3",
   "version": "3.7.3"
  }
 },
 "nbformat": 4,
 "nbformat_minor": 2
}

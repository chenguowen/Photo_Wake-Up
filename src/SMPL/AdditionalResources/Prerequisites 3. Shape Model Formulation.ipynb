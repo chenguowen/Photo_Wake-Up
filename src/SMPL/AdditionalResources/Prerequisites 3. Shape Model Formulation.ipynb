{
 "cells": [
  {
   "cell_type": "markdown",
   "metadata": {},
   "source": [
    "# <div align=\"center\">Shape Model Formulation</div>\n",
    "---------------------------------------------------------------------\n",
    "\n",
    "you can Find me on Github:\n",
    "> ###### [ GitHub](https://github.com/lev1khachatryan)\n"
   ]
  },
  {
   "cell_type": "markdown",
   "metadata": {},
   "source": [
    " "
   ]
  },
  {
   "cell_type": "markdown",
   "metadata": {},
   "source": [
    "***Shape*** is all the geometrical information that remains when location, scale and rotational effects are filtered out from an object. One way to describe a shape is by locating a finite number of points on the outline.\n",
    "\n",
    "A mathematical representation of an ***n-point shape*** in ***k dimensions*** could be to concatenate each dimension into a ***kn-vector***. The vector representation for planar shapes (i.e. k = 2) would then be: $x=[x_1, x_2, ..., x_n, y_1, y_2, ..., y_n]^T$\n",
    "\n",
    "Suppose we wish to derive a model to represent the shapes of resistors. Figure below shows some examples of resistor boundaries. Our aim is to build a model which describes both typical shape and typical variability:\n",
    "\n",
    "<img src='_assets/10.png'>\n",
    "\n",
    "Any resistor has its representative points ***( landmark points )***. For our purposes they can be reduced to two different types:\n",
    "\n",
    "1. points marking parts of the object with particular application-dependent significance, such as the center of an eye in the model of a face or sharp corners of a boundary;\n",
    "\n",
    "\n",
    "2. points marking application-independent things, such as the highest point on an object in a particular orientation, or curvature extrema;\n",
    "\n",
    "<img src='_assets/11.png'>\n",
    "\n",
    "In Figure below the coordinates of the some of the vertices of the aligned resistor shapes are plotted, with the mean shape overlaid. It can be seen that some of the vertices show little variability over the training set, while others form more diffuse \"clouds.\" The Point Distribution Model (PDM) seeks to model the variation of the coordinates within these clouds. However, it must be remembered that landmarks do not move about independently their positions are partially correlated.\n",
    "\n",
    "<img src='_assets/12.png'>\n",
    "\n",
    "Each example in the training set, when aligned, can be represented by a single point in a 2n dimensional space (in planar case, k=2). "
   ]
  },
  {
   "cell_type": "markdown",
   "metadata": {},
   "source": [
    "Thus a set of N example shapes gives a cloud of N points in this 2n dimensional space. We assume that these points lie within some region of the space,which we call the ***Allowable Shape Domain*** or ***Shape Space*** and that the points give an indication of the shape and size of this region. Every 2n-D point within this domain gives a set of landmarks whose shape is broadly similar to that of those in the original training set. Thus by moving about the Allowable Shape Domain we can generate new shapes in a systematic way. The approach given below attempts to model the shape of this cloud in a high dimensional space, and hence to capture the relationships between the positions of the individual landmark points. We make the assumption that the cloud is approximately ellipsoidal, and proceed to calculate its center (giving a mean shape) and its major axes, which give a way of moving around the cloud.\n",
    "\n",
    "Given a set of N aligned shapes, the mean shape, $\\bar{x}$ (the center of the ellipsoidal Allowable Shape Domain), is calculated using $\\bar{x} = 1/N \\sum_{i=1}^N x_i$"
   ]
  },
  {
   "cell_type": "markdown",
   "metadata": {},
   "source": [
    " "
   ]
  },
  {
   "cell_type": "markdown",
   "metadata": {},
   "source": [
    "### Point Distribution Model"
   ]
  },
  {
   "cell_type": "markdown",
   "metadata": {},
   "source": [
    "Given an aligned set of corresponding training shapes, each of it can be described as an element of a common vector space $R^{3N}$ where $N$ is the number of vertices approximating the shape. ***Principal component analysis*** (PCA) on the training set then yields a linear model\n"
   ]
  },
  {
   "cell_type": "markdown",
   "metadata": {},
   "source": [
    "<div align=\"center\">$V(b) = \\bar{V} + Pb$</div>"
   ]
  },
  {
   "cell_type": "markdown",
   "metadata": {},
   "source": [
    "with the \n",
    "\n",
    "* mean shape $\\bar{V} \\in R^{3N}$\n",
    "\n",
    "* the matrix of eigenvectors of the covariance matrix $P \\in R^{3N x K}$ and\n",
    "\n",
    "* shape weights $b \\in R^K$. "
   ]
  }
 ],
 "metadata": {
  "kernelspec": {
   "display_name": "Python 3",
   "language": "python",
   "name": "python3"
  },
  "language_info": {
   "codemirror_mode": {
    "name": "ipython",
    "version": 3
   },
   "file_extension": ".py",
   "mimetype": "text/x-python",
   "name": "python",
   "nbconvert_exporter": "python",
   "pygments_lexer": "ipython3",
   "version": "3.7.3"
  }
 },
 "nbformat": 4,
 "nbformat_minor": 2
}

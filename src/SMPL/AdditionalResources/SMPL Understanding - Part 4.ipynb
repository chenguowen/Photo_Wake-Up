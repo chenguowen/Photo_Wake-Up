{
 "cells": [
  {
   "cell_type": "markdown",
   "metadata": {},
   "source": [
    "# <div align=\"center\">Detail understanding of SMPL paper</div>\n",
    "---------------------------------------------------------------------\n",
    "\n",
    "you can Find me on Github:\n",
    "> ###### [ GitHub](https://github.com/lev1khachatryan)\n"
   ]
  },
  {
   "cell_type": "markdown",
   "metadata": {},
   "source": [
    " "
   ]
  },
  {
   "cell_type": "markdown",
   "metadata": {},
   "source": [
    "### <div align=\"center\">Shape Parameter Training</div>"
   ]
  },
  {
   "cell_type": "markdown",
   "metadata": {},
   "source": [
    "Our shape space is defined by a mean and principal shape directions $\\{ \\bar{T}, \\mathcal{S} \\}$. It is computed by running PCA on shape registrations from our multi-shape database after pose normalization. Pose normalization transforms a raw registration $V_j^S$ into a registration, $\\hat{T}_j^S$, in the rest pose, $\\theta^*$. This normalization is critical to ensure that pose and shape are modeled separately.\n",
    "\n",
    "To pose-normalize a registration, $V_j^S$ , we first have to estimate its pose. We denote $\\hat{T}_{\\mu}^P$ and $\\hat{J}_{\\mu}^P$ as the ***mean shape*** and ***mean joint locations*** from the multi-pose database respectively.\n",
    "\n",
    "Let $W_e(\\hat{T}_{\\mu}^P, \\hat{J}_{\\mu}^P, \\theta, \\mathcal{W})$, $V_{j, e}^S$ $\\in R^3$ denote an ***edge*** of the model and\n",
    "of the registration respectively. An edge is obtained by ***subtracting a pair of neighboring vertices***. To estimate the pose using an average generic shape $\\hat{T}_{\\mu}^P$, we minimize the following sum of squared edge difference so that "
   ]
  },
  {
   "cell_type": "markdown",
   "metadata": {},
   "source": [
    "<div align=\"center\">$\\theta_j = \\underset{\\theta}{\\operatorname{argmin}} \\displaystyle{\\sum_{e}} ||W_e(\\hat{T}_{\\mu}^P + B_P(\\theta, \\mathcal{P}), \\hat{J}_{\\mu}^P, \\theta, \\mathcal{W}) - V_{j, e}^S||^2$</div>"
   ]
  },
  {
   "cell_type": "markdown",
   "metadata": {},
   "source": [
    "where the sum is taken over all edges in the mesh. This allows us to get a good estimate of the pose without knowing the subject specific shape.\n",
    "\n",
    "Once the pose $\\theta_j$ is known we solve for $\\hat{T}_{j}^S$ by minimizing:\n"
   ]
  },
  {
   "cell_type": "markdown",
   "metadata": {},
   "source": [
    "<div align=\"center\">$\\hat{T}_{j}^S = \\underset{\\hat{T}}{\\operatorname{argmin}} ||W(\\hat{T} + B_P(\\theta, \\mathcal{P}), \\mathcal{J} \\hat{T}, \\theta_j, \\mathcal{W}) - V_j^S||^2$</div>"
   ]
  },
  {
   "cell_type": "markdown",
   "metadata": {},
   "source": [
    "This computes the shape that, when posed, matches the training registration. This shape is the pose-normalized shape.\n",
    "\n",
    "We then run ***PCA*** on $\\{ \\hat{T}_j^S \\}_{j=1}^{S_{subj}}$ to obtain $\\{ \\hat{T}, \\mathcal{S} \\}$. This procedure\n",
    "is designed to maximize the explained variance of vertex offsets in the rest pose, given a limited number of shape directions."
   ]
  },
  {
   "cell_type": "markdown",
   "metadata": {},
   "source": [
    "Note that the optimization of pose is critically important when building a shape basis from vertices. Without this step, pose variations of the subjects in the shape training dataset would be captured in the shape blend shapes. The resulting model would not be decomposed properly into shape and pose. Note also that this approach constrasts with SCAPE or BlendSCAPE, where PCA is performed in the space of per-triangle deformations. Unlike vertices, triangle deformations do not live in a Euclidean space.  Hence PCA on vertices is more principled and is consistent with the registration data term, which consists of squared vertex disparities."
   ]
  },
  {
   "cell_type": "markdown",
   "metadata": {},
   "source": [
    " "
   ]
  },
  {
   "cell_type": "markdown",
   "metadata": {},
   "source": [
    " "
   ]
  }
 ],
 "metadata": {
  "kernelspec": {
   "display_name": "Python 3",
   "language": "python",
   "name": "python3"
  },
  "language_info": {
   "codemirror_mode": {
    "name": "ipython",
    "version": 3
   },
   "file_extension": ".py",
   "mimetype": "text/x-python",
   "name": "python",
   "nbconvert_exporter": "python",
   "pygments_lexer": "ipython3",
   "version": "3.7.3"
  }
 },
 "nbformat": 4,
 "nbformat_minor": 2
}

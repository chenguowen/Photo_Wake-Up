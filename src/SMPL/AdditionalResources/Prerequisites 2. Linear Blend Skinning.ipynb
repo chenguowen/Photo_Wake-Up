{
 "cells": [
  {
   "cell_type": "markdown",
   "metadata": {},
   "source": [
    "# <div align=\"center\">Linear Blend Skinning</div>\n",
    "---------------------------------------------------------------------\n",
    "\n",
    "you can Find me on Github:\n",
    "> ###### [ GitHub](https://github.com/lev1khachatryan)\n"
   ]
  },
  {
   "cell_type": "markdown",
   "metadata": {},
   "source": [
    " "
   ]
  },
  {
   "cell_type": "markdown",
   "metadata": {},
   "source": [
    "Skinning is the process of controlling deformations of a given object using a set of deformation primitives. A typical example of an object often subjected to skinning is the ***body of a virtual character***. In this case, the deformation primitives are rigid transformations associated with bones of an animation skeleton.\n",
    "\n",
    "***Linear blend skinning***, also known as ***skeleton-subspace deformation***, (single-weight-) ***enveloping***, or ***matrix-palette skinning***, is the basic and most well known algorithm for direct skeletal shape deformation. It is difficult to trace the roots of linear blend skinning. Linear skinning assumes the following input data:\n",
    "\n",
    "* ***Rest pose shape***, typically represented as a polygon mesh. The mesh connectivity is assumed to be constant, i.e., only vertex positions will change during deformations. We denote the rest-pose vertices as $v_1, . . . , v_n \\in R^3$. It is often convenient to assume that $v_i$ are in fact $R^4$ vectors with the last coordinate equal to one, according to the common convention of homogeneous coordinates.\n",
    " \n",
    "* ***Bone transformations***, represented using a list of matrices $T_1, . . . , T_m \\in R^{3x4}$. The matrices $T_i$ can be conveniently defined using an animation skeleton; in this case they corresponds to spatial transformations aligning the rest pose of bone $i$ with its current (animated) pose. Bone transformations are typically the only quantity that is allowed to vary during the course of an animation.\n",
    " \n",
    "* ***Skinning weights***. For vertex $v_i$, we have weights $w_{i,1}, . . . , w_{i,m} \\in R$. Each weight $w_{i,j}$ describes the amount of influence of bone $j$ on vertex $i$. A common requirement is that $w_{i,j} >= 0$ and $w_{i,1} + ... + w_{i,m} = 1$"
   ]
  },
  {
   "cell_type": "markdown",
   "metadata": {},
   "source": [
    " "
   ]
  },
  {
   "cell_type": "markdown",
   "metadata": {},
   "source": [
    "These concepts are best illustrated with an example; see Figure 1 for an example of bone transformations and Figure 2 for influence weights. Linear blend skinning computes deformed vertex positions $v_i^{'}$ according to the following formula:\n",
    "\n",
    "<img src='_assets/3.png'>\n",
    "\n",
    "The latter form highlights the fact that the rest pose vertex $v_i$ is transformed by a linear combination (blend) of bone transformation matrices $T_j$ . These matrices are the deformation primitives of linear blend skinning, i.e., elementary building blocks of deformations. While arbitrary affine transformations are allowed, sometimes it is convenient to assume that $T_j$ are rigid body transformations, i.e., $T_j \\in SE(3)$. Note that many implementations assume that most of the weights $w_{i,1},... , w_{i,m}$ are zero. Due to graphics hardware considerations, it is common to assume there are at most four non-zero weights for every vertex; different limits can be found in some systems. Some older games used a variant dubbed rigid skinning which corresponds to allowing only one influencing bone per vertex. With increasing polygon budgets, linear blend skinning quickly replaced rigid skinning because it allowed for smooth transitions between individual transformations (some systems used the term smooth skinning). The design of high quality skinning weights is far from trivial and will be covered in the second part of these notes by Alec Jacobson.\n",
    "\n",
    "Linear blend skinning works very well when the blended transformations $T_j$ are not very different. Issues arise if we need to blend transformations which differ significantly in their rotation components. It is a well known fact that a linear combination of rotations is no longer a rotation. Geometrically, this is a consequence of the fact that the Lie group of 3D transformations, SO(3), is not a linear (“flat”) space, but a curved manifold. Just like the curvature of the Earth rarely bothers us in everyday life, this is not a\n",
    "big problem if the blended transformations Tj are close. However, consider what happens if we need to blend these two rotations:\n"
   ]
  },
  {
   "cell_type": "markdown",
   "metadata": {},
   "source": [
    " "
   ]
  },
  {
   "cell_type": "markdown",
   "metadata": {},
   "source": [
    "<img src='_assets/4.png'>\n",
    "\n",
    "***Figure 1:*** Bone transformations (lower and upper arm bones) for one example deformed pose."
   ]
  },
  {
   "cell_type": "markdown",
   "metadata": {},
   "source": [
    " "
   ]
  },
  {
   "cell_type": "markdown",
   "metadata": {},
   "source": [
    "<img src='_assets/5.png'>\n",
    "\n",
    "***Figure 2:*** Influence weights corresponding to lower and upper arm bones."
   ]
  },
  {
   "cell_type": "markdown",
   "metadata": {},
   "source": [
    " "
   ]
  },
  {
   "cell_type": "markdown",
   "metadata": {},
   "source": [
    " "
   ]
  }
 ],
 "metadata": {
  "kernelspec": {
   "display_name": "Python 3",
   "language": "python",
   "name": "python3"
  },
  "language_info": {
   "codemirror_mode": {
    "name": "ipython",
    "version": 3
   },
   "file_extension": ".py",
   "mimetype": "text/x-python",
   "name": "python",
   "nbconvert_exporter": "python",
   "pygments_lexer": "ipython3",
   "version": "3.7.3"
  }
 },
 "nbformat": 4,
 "nbformat_minor": 2
}

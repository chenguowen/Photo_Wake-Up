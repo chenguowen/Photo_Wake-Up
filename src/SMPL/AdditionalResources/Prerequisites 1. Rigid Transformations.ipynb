{
 "cells": [
  {
   "cell_type": "markdown",
   "metadata": {},
   "source": [
    "# <div align=\"center\">Rigid Transformations</div>\n",
    "---------------------------------------------------------------------\n",
    "\n",
    "you can Find me on Github:\n",
    "> ###### [ GitHub](https://github.com/lev1khachatryan)\n"
   ]
  },
  {
   "cell_type": "markdown",
   "metadata": {},
   "source": [
    " "
   ]
  },
  {
   "cell_type": "markdown",
   "metadata": {},
   "source": [
    "In mathematics, a rigid transformation (also called Euclidean transformation or Euclidean isometry or just ***isometry***) is a geometric transformation of a Euclidean space that preserves the Euclidean distance between every pair of points. The rigid transformations include ***rotations***, ***translations***, ***reflections***, or their ***combination***.\n",
    "\n",
    "**Note:** In a **Rigid Transformation** the pre-image and image are ***congruent*** (same size and shape)."
   ]
  },
  {
   "cell_type": "markdown",
   "metadata": {},
   "source": [
    " "
   ]
  },
  {
   "cell_type": "markdown",
   "metadata": {},
   "source": [
    "## Reflection in a Line"
   ]
  },
  {
   "cell_type": "markdown",
   "metadata": {},
   "source": [
    " "
   ]
  },
  {
   "cell_type": "markdown",
   "metadata": {},
   "source": [
    "A ***reflection*** over line m (notation $r_m$ ) is a transformation in which each point of the original figure (pre-image) has an image that is the same distance from the reflection line as the original point, but is on the opposite side of the line. A reflection is called a rigid transformation or isometry because the image is the same size and shape as the pre-image.\n",
    "\n",
    "<img src='_assets/1.jpg'>\n",
    "\n",
    "Properties preserved under a line reflection from the pre-image to the image:\n",
    "\n",
    "1. distance (lengths of segments remain the same)\n",
    "2. angle measures (remain the same)\n",
    "3. parallelism (parallel lines remain parallel)\n",
    "4. collinearity (points remain on the same lines)\n",
    "\n",
    "The orientation (lettering around the outside of the figure), is not preserved. The order of the lettering in a reflection is reversed (from clockwise to counterclockwise or vice versa). When formally defining a reflection, there are two situations (cases) that need to be considered for a precise definition. Is the point being reflected lying ON the line of reflection, or NOT ON the line of reflection?\n",
    "\n",
    "***Definition:*** A reflection is a rigid transformation (isometry) that maps every point P in the plane to point P', across a line of reflection, m, such that:\n",
    "\n",
    "***Case 1:*** if point P is ON line m, the point is its own reflection (P = P') and $r_m(P) = P$ (point P is \"fixed\").\n",
    "\n",
    "***Case 2:*** if point P is NOT on line m, then m is the perpendicular bisector of $\\overline{PP'}$ where $r_m(P) = P'$"
   ]
  },
  {
   "cell_type": "markdown",
   "metadata": {},
   "source": [
    " "
   ]
  },
  {
   "cell_type": "markdown",
   "metadata": {},
   "source": [
    "## Translations"
   ]
  },
  {
   "cell_type": "markdown",
   "metadata": {},
   "source": [
    " "
   ]
  },
  {
   "cell_type": "markdown",
   "metadata": {},
   "source": [
    "A translation (notation $T_{a, b}$ ) is a transformation which \"slides\" a figure a fixed distance in a given direction. In a translation, ALL of the points move the same distance in the same direction. A translation is called a rigid transformation or isometry because the image is the same size and shape as the pre-image.\n",
    "\n",
    "<img src='_assets/2.jpg'>\n",
    "\n",
    "Properties preserved under a translation from the pre-image to the image.\n",
    "\n",
    "1. distance (lengths of segments remain the same)\n",
    "2. angle measures (remain the same)\n",
    "3. parallelism (parallel lines remain parallel)\n",
    "4. collinearity (points remain on the same lines)\n",
    "5. orientation (lettering order remains the same)\n",
    "\n",
    "***Definition:*** A translation is a rigid transformation of the plane that moves every point of a pre-image a constant distance in a specified direction."
   ]
  },
  {
   "cell_type": "markdown",
   "metadata": {},
   "source": [
    " "
   ]
  },
  {
   "cell_type": "markdown",
   "metadata": {},
   "source": [
    "## Rotations"
   ]
  },
  {
   "cell_type": "markdown",
   "metadata": {},
   "source": [
    " "
   ]
  },
  {
   "cell_type": "markdown",
   "metadata": {},
   "source": [
    "A rotation of $\\theta$ degrees (notation $R_{C, \\theta}$ ) is a transformation which \"turns\" a figure about a fixed point, C, called the center of rotation. When working in the coordinate plane, the center of rotation should be stated, and not assumed to be at the origin. Rays drawn from the center of rotation to a point and its image form an angle called the angle of rotation. A rotation is called a rigid transformation or isometry because the image is the same size and shape as the pre-image.\n",
    "\n",
    "<img src='_assets/3.jpg'>\n",
    "\n",
    "Properties preserved under a rotation from the pre-image to the image.\n",
    "\n",
    "1. distance (lengths of segments remain the same)\n",
    "2. angle measures (remain the same)\n",
    "3. parallelism (parallel lines remain parallel)\n",
    "4. collinearity (points remain on the same lines)\n",
    "5. orientation (lettering order remains the same)\n",
    "\n"
   ]
  },
  {
   "cell_type": "markdown",
   "metadata": {},
   "source": [
    " "
   ]
  }
 ],
 "metadata": {
  "kernelspec": {
   "display_name": "Python 3",
   "language": "python",
   "name": "python3"
  },
  "language_info": {
   "codemirror_mode": {
    "name": "ipython",
    "version": 3
   },
   "file_extension": ".py",
   "mimetype": "text/x-python",
   "name": "python",
   "nbconvert_exporter": "python",
   "pygments_lexer": "ipython3",
   "version": "3.7.3"
  }
 },
 "nbformat": 4,
 "nbformat_minor": 2
}

{
 "cells": [
  {
   "cell_type": "code",
   "execution_count": 1,
   "metadata": {},
   "outputs": [],
   "source": [
    "import tensorflow as tf\n",
    "import tensorflow.contrib.slim as slim\n",
    "from tensorflow.contrib.layers.python.layers.initializers import variance_scaling_initializer\n",
    "\n",
    "import skimage.io as io\n",
    "import numpy as np\n",
    "from matplotlib import pyplot as plt\n",
    "\n",
    "import deepdish as dd\n",
    "from os.path import join, dirname\n",
    "\n",
    "import os.path as osp\n",
    "import os\n",
    "import sys\n",
    "import pickle\n",
    "curr_path = osp.dirname(os.getcwd())\n",
    "model_dir = osp.join(curr_path, '..', 'models')\n",
    "\n",
    "smpl_model_path = r'C:\\_Files\\MyProjects\\ASDS_3\\Photo_Wake-Up\\src\\HMR\\TensorFlow\\models\\neutral_smpl_with_cocoplus_reg.pkl'\n",
    "smpl_face_path = r'C:\\_Files\\MyProjects\\ASDS_3\\Photo_Wake-Up\\src\\HMR\\TensorFlow\\src\\tf_smpl\\smpl_faces.npy'\n",
    "\n",
    "from src.batch_lbs import batch_rodrigues\n",
    "from src.batch_smpl import SMPL\n",
    "from src.projection import batch_orth_proj_idrot\n",
    "from src.util import image as img_util"
   ]
  },
  {
   "cell_type": "code",
   "execution_count": 2,
   "metadata": {},
   "outputs": [],
   "source": [
    "with open(smpl_model_path, 'rb') as f:\n",
    "    dd = pickle.load(f, encoding='latin1')"
   ]
  },
  {
   "cell_type": "code",
   "execution_count": 3,
   "metadata": {},
   "outputs": [
    {
     "data": {
      "text/plain": [
       "['J: (24, 3)',\n",
       " 'weights_prior: (6890, 24)',\n",
       " 'posedirs: (6890, 3, 207)',\n",
       " 'bs_style: ()',\n",
       " 'v_template: (6890, 3)',\n",
       " 'cocoplus_regressor: ()',\n",
       " 'J_regressor_prior: ()',\n",
       " 'f: (13776, 3)',\n",
       " 'J_regressor: ()',\n",
       " 'kintree_table: (2, 24)',\n",
       " 'weights: (6890, 24)',\n",
       " 'bs_type: ()',\n",
       " 'shapedirs: (6890, 3, 10)']"
      ]
     },
     "execution_count": 3,
     "metadata": {},
     "output_type": "execute_result"
    }
   ],
   "source": [
    "[k + ': ' + str(np.array(dd[k]).shape) for k in dd.keys()]"
   ]
  },
  {
   "cell_type": "code",
   "execution_count": 6,
   "metadata": {},
   "outputs": [],
   "source": [
    "# len(np.unique(dd['weights_prior'])) / (dd['weights_prior'].shape[0] * dd['weights_prior'].shape[1] ) * 100 "
   ]
  },
  {
   "cell_type": "code",
   "execution_count": 8,
   "metadata": {},
   "outputs": [
    {
     "name": "stdout",
     "output_type": "stream",
     "text": [
      "(6890, 19)\n",
      "(6890, 24)\n",
      "(6890, 24)\n"
     ]
    }
   ],
   "source": [
    "print(dd['cocoplus_regressor'].T.todense().shape)\n",
    "print(dd['J_regressor_prior'].T.todense().shape)\n",
    "print(dd['J_regressor'].T.todense().shape)"
   ]
  },
  {
   "cell_type": "code",
   "execution_count": 9,
   "metadata": {},
   "outputs": [
    {
     "data": {
      "text/plain": [
       "'lrotmin'"
      ]
     },
     "execution_count": 9,
     "metadata": {},
     "output_type": "execute_result"
    }
   ],
   "source": [
    "dd['bs_type']"
   ]
  },
  {
   "cell_type": "code",
   "execution_count": null,
   "metadata": {},
   "outputs": [],
   "source": []
  },
  {
   "cell_type": "code",
   "execution_count": null,
   "metadata": {},
   "outputs": [],
   "source": []
  },
  {
   "cell_type": "code",
   "execution_count": null,
   "metadata": {},
   "outputs": [],
   "source": []
  },
  {
   "cell_type": "code",
   "execution_count": null,
   "metadata": {},
   "outputs": [],
   "source": []
  },
  {
   "cell_type": "code",
   "execution_count": null,
   "metadata": {},
   "outputs": [],
   "source": []
  },
  {
   "cell_type": "code",
   "execution_count": null,
   "metadata": {},
   "outputs": [],
   "source": [
    "def preprocess_image(img_path, json_path=None):\n",
    "    img = io.imread(img_path)\n",
    "    if img.shape[2] == 4:\n",
    "        img = img[:, :, :3]\n",
    "\n",
    "    if json_path is None:\n",
    "        if np.max(img.shape[:2]) != 224:\n",
    "            print('Resizing so the max image size is %d..' % 224)\n",
    "            scale = (float(224) / np.max(img.shape[:2]))\n",
    "        else:\n",
    "            scale = 1.\n",
    "        center = np.round(np.array(img.shape[:2]) / 2).astype(int)\n",
    "        # image center in (x,y)\n",
    "        center = center[::-1]\n",
    "    else:\n",
    "        scale, center = op_util.get_bbox(json_path)\n",
    "\n",
    "    crop, proc_param = img_util.scale_and_crop(img, scale, center, 224)\n",
    "\n",
    "    # Normalize image to [-1, 1]\n",
    "    crop = 2 * ((crop / 255.) - 0.5)\n",
    "\n",
    "    return crop, proc_param, img"
   ]
  },
  {
   "cell_type": "code",
   "execution_count": null,
   "metadata": {},
   "outputs": [],
   "source": [
    "img_path = 'data/im1963.jpg'\n",
    "json_path = None\n",
    "input_img, proc_param, img = preprocess_image(img_path, json_path)\n",
    "input_img = np.expand_dims(input_img, 0)\n",
    "input_img = np.float32(input_img)"
   ]
  },
  {
   "cell_type": "code",
   "execution_count": null,
   "metadata": {},
   "outputs": [],
   "source": [
    "def load_mean_param():\n",
    "    mean = np.zeros((1, 85))\n",
    "    # Initialize scale at 0.9\n",
    "    mean[0, 0] = 0.9\n",
    "    mean_path = join(\n",
    "        dirname(smpl_model_path), 'neutral_smpl_mean_params.h5')\n",
    "    mean_vals = dd.io.load(mean_path)\n",
    "\n",
    "    mean_pose = mean_vals['pose']\n",
    "    # Ignore the global rotation.\n",
    "    mean_pose[:3] = 0.\n",
    "    mean_shape = mean_vals['shape']\n",
    "\n",
    "    # This initializes the global pose to be up-right when projected\n",
    "    mean_pose[0] = np.pi\n",
    "\n",
    "    mean[0, 3:] = np.hstack((mean_pose, mean_shape))\n",
    "    mean = tf.constant(mean, tf.float32)\n",
    "    mean_var = tf.Variable(\n",
    "        mean, name=\"mean_param\", dtype=tf.float32, trainable=True)\n",
    "#     E_var.append(mean_var)\n",
    "    init_mean = tf.tile(mean_var, [1, 1])\n",
    "    return init_mean"
   ]
  },
  {
   "cell_type": "code",
   "execution_count": null,
   "metadata": {},
   "outputs": [],
   "source": [
    "use_3d_label = True\n",
    "num_stage = 3\n",
    "total_params = 85\n",
    "num_cam = 3\n",
    "num_theta = 72\n",
    "batch_size = 1"
   ]
  },
  {
   "cell_type": "code",
   "execution_count": null,
   "metadata": {},
   "outputs": [],
   "source": [
    "smpl = SMPL(smpl_model_path)\n",
    "# verts, Js, pred_Rs = smpl(shapes, poses, get_skin=True)"
   ]
  },
  {
   "cell_type": "code",
   "execution_count": null,
   "metadata": {},
   "outputs": [],
   "source": []
  },
  {
   "cell_type": "code",
   "execution_count": null,
   "metadata": {},
   "outputs": [],
   "source": [
    "mean = np.zeros((1, 85))\n",
    "# Initialize scale at 0.9\n",
    "mean[0, 0] = 0.9\n",
    "mean_path = join(\n",
    "    dirname(smpl_model_path), 'neutral_smpl_mean_params.h5')\n",
    "mean_vals = dd.io.load(mean_path)\n",
    "\n",
    "mean_pose = mean_vals['pose']\n",
    "# Ignore the global rotation.\n",
    "mean_pose[:3] = 0.\n",
    "mean_shape = mean_vals['shape']\n",
    "\n",
    "# This initializes the global pose to be up-right when projected\n",
    "mean_pose[0] = np.pi\n",
    "\n",
    "mean[0, 3:] = np.hstack((mean_pose, mean_shape))\n",
    "mean = tf.constant(mean, tf.float32)\n",
    "mean_var = tf.Variable(\n",
    "    mean, name=\"mean_param\", dtype=tf.float32, trainable=True)\n",
    "init_mean = tf.tile(mean_var, [1, 1])"
   ]
  },
  {
   "cell_type": "code",
   "execution_count": null,
   "metadata": {},
   "outputs": [],
   "source": []
  }
 ],
 "metadata": {
  "kernelspec": {
   "display_name": "Python 3",
   "language": "python",
   "name": "python3"
  },
  "language_info": {
   "codemirror_mode": {
    "name": "ipython",
    "version": 3
   },
   "file_extension": ".py",
   "mimetype": "text/x-python",
   "name": "python",
   "nbconvert_exporter": "python",
   "pygments_lexer": "ipython3",
   "version": "3.7.3"
  }
 },
 "nbformat": 4,
 "nbformat_minor": 2
}

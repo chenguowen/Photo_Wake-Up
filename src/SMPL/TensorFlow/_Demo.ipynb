{
 "cells": [
  {
   "cell_type": "code",
   "execution_count": 1,
   "metadata": {},
   "outputs": [
    {
     "name": "stdout",
     "output_type": "stream",
     "text": [
      "importing Jupyter notebook from _DemoTransformation.ipynb\n"
     ]
    }
   ],
   "source": [
    "import tensorflow as tf\n",
    "import tensorflow.contrib.slim as slim\n",
    "from tensorflow.contrib.layers.python.layers.initializers import variance_scaling_initializer\n",
    "\n",
    "import skimage.io as io\n",
    "import numpy as np\n",
    "from matplotlib import pyplot as plt\n",
    "\n",
    "import deepdish as dd\n",
    "from os.path import join, dirname\n",
    "\n",
    "import os.path as osp\n",
    "import os\n",
    "import sys\n",
    "import pickle\n",
    "curr_path = osp.dirname(os.getcwd())\n",
    "model_dir = osp.join(curr_path, '..', 'models')\n",
    "\n",
    "smpl_model_path = r'C:\\_Files\\MyProjects\\ASDS_3\\Photo_Wake-Up\\src\\HMR\\TensorFlow\\models\\neutral_smpl_with_cocoplus_reg.pkl'\n",
    "smpl_face_path = r'C:\\_Files\\MyProjects\\ASDS_3\\Photo_Wake-Up\\src\\HMR\\TensorFlow\\src\\tf_smpl\\smpl_faces.npy'\n",
    "\n",
    "from src.batch_lbs import batch_rodrigues\n",
    "from src.batch_smpl import SMPL\n",
    "from src.projection import batch_orth_proj_idrot\n",
    "from src.util import image as img_util\n",
    "\n",
    "# !pip install import_ipynb\n",
    "import import_ipynb\n",
    "from _DemoTransformation import *"
   ]
  },
  {
   "cell_type": "code",
   "execution_count": 2,
   "metadata": {},
   "outputs": [],
   "source": [
    "with open(smpl_model_path, 'rb') as f:\n",
    "    dd = pickle.load(f, encoding='latin1')"
   ]
  },
  {
   "cell_type": "code",
   "execution_count": 3,
   "metadata": {
    "scrolled": true
   },
   "outputs": [
    {
     "data": {
      "text/plain": [
       "['J: (24, 3)',\n",
       " 'weights_prior: (6890, 24)',\n",
       " 'posedirs: (6890, 3, 207)',\n",
       " 'bs_style: ()',\n",
       " 'v_template: (6890, 3)',\n",
       " 'cocoplus_regressor: ()',\n",
       " 'J_regressor_prior: ()',\n",
       " 'f: (13776, 3)',\n",
       " 'J_regressor: ()',\n",
       " 'kintree_table: (2, 24)',\n",
       " 'weights: (6890, 24)',\n",
       " 'bs_type: ()',\n",
       " 'shapedirs: (6890, 3, 10)']"
      ]
     },
     "execution_count": 3,
     "metadata": {},
     "output_type": "execute_result"
    }
   ],
   "source": [
    "[k + ': ' + str(np.array(dd[k]).shape) for k in dd.keys()]"
   ]
  },
  {
   "cell_type": "code",
   "execution_count": 4,
   "metadata": {},
   "outputs": [
    {
     "name": "stdout",
     "output_type": "stream",
     "text": [
      "(6890, 19)\n",
      "(6890, 24)\n",
      "(6890, 24)\n"
     ]
    }
   ],
   "source": [
    "print(dd['cocoplus_regressor'].T.todense().shape)\n",
    "print(dd['J_regressor_prior'].T.todense().shape)\n",
    "print(dd['J_regressor'].T.todense().shape)"
   ]
  },
  {
   "cell_type": "code",
   "execution_count": 5,
   "metadata": {},
   "outputs": [],
   "source": [
    "joint_type='cocoplus'\n",
    "dtype=tf.float32\n",
    "\n",
    "# Mean template vertices  [6890 x 3]\n",
    "v_template = tf.constant(\n",
    "                dd['v_template'],\n",
    "                name='v_template',\n",
    "                dtype=dtype)\n",
    "\n",
    "# Size of mesh [Number of vertices (6890) x 3]\n",
    "size = [v_template.shape[0].value, 3]\n",
    "\n",
    "# Size of beta [10]\n",
    "num_betas = dd['shapedirs'].shape[-1]\n",
    "\n",
    "# Shape blend shape basis: [6980 x 3 x 10]\n",
    "# reshaped to [6980*3 x 10], transposed to [10 x 6980*3]\n",
    "shapedir = np.reshape(dd['shapedirs'], [-1, num_betas]).T\n",
    "shapedirs = tf.constant(\n",
    "                shapedir, \n",
    "                name='shapedirs', \n",
    "                dtype=dtype)\n",
    "\n",
    "# Regressor for joint locations given shape - [6890 x 24]\n",
    "J_regressor = tf.constant(\n",
    "                dd['J_regressor'].T.todense(),\n",
    "                name=\"J_regressor\",\n",
    "                dtype=dtype)\n",
    "\n",
    "# Pose blend shape basis: [6890 x 3 x 207], reshaped to [6890*3 x 207], transposed to [207, 6890*3]\n",
    "num_pose_basis = dd['posedirs'].shape[-1]\n",
    "posedirs = np.reshape(dd['posedirs'], [-1, num_pose_basis]).T\n",
    "posedirs = tf.constant(\n",
    "                posedirs, \n",
    "                name='posedirs', \n",
    "                dtype=dtype)\n",
    "\n",
    "# indices of parents for each joints\n",
    "parents = dd['kintree_table'][0].astype(np.int32)\n",
    "\n",
    "# LBS weights: [6890 x 24]\n",
    "weights = tf.constant(\n",
    "                dd['weights'],\n",
    "                name='lbs_weights',\n",
    "                dtype=dtype)\n",
    "\n",
    "# This returns 19 keypoints: [6890 x 19]\n",
    "joint_regressor = tf.constant(\n",
    "                dd['cocoplus_regressor'].T.todense(),\n",
    "                name=\"cocoplus_regressor\",\n",
    "                dtype=dtype)\n",
    "\n",
    "if joint_type == 'lsp':  # 14 LSP joints!\n",
    "    joint_regressor = joint_regressor[:, :14]"
   ]
  },
  {
   "cell_type": "code",
   "execution_count": 6,
   "metadata": {},
   "outputs": [],
   "source": [
    "def load_mean_param():\n",
    "    import deepdish as dd\n",
    "    from os.path import join, dirname\n",
    "    \n",
    "    mean = np.zeros((1, 85))\n",
    "    # Initialize scale at 0.9\n",
    "    mean[0, 0] = 0.9\n",
    "    mean_path = join(dirname(smpl_model_path), 'neutral_smpl_mean_params.h5')\n",
    "    mean_vals = dd.io.load(mean_path)\n",
    "\n",
    "    mean_pose = mean_vals['pose']\n",
    "    # Ignore the global rotation.\n",
    "    mean_pose[:3] = 0.\n",
    "    mean_shape = mean_vals['shape']\n",
    "\n",
    "    # This initializes the global pose to be up-right when projected\n",
    "    mean_pose[0] = np.pi\n",
    "\n",
    "    mean[0, 3:] = np.hstack((mean_pose, mean_shape))\n",
    "    mean = tf.constant(mean, tf.float32)\n",
    "    mean_var = tf.Variable(mean, name=\"mean_param\", dtype=tf.float32, trainable=True)\n",
    "    init_mean = tf.tile(mean_var, [1, 1])\n",
    "    return init_mean\n",
    "\n",
    "theta_prev = load_mean_param()\n",
    "\n",
    "theta = theta_prev[:, 3:(3 + 72)]\n",
    "beta = theta_prev[:, (3 + 72):]\n",
    "\n",
    "get_skin = False\n",
    "name = None"
   ]
  },
  {
   "cell_type": "code",
   "execution_count": 7,
   "metadata": {},
   "outputs": [
    {
     "name": "stderr",
     "output_type": "stream",
     "text": [
      "WARNING: Logging before flag parsing goes to stderr.\n",
      "W0311 17:46:29.353174 10060 deprecation.py:323] From <string>:39: div (from tensorflow.python.ops.math_ops) is deprecated and will be removed in a future version.\n",
      "Instructions for updating:\n",
      "Deprecated in favor of operator or tf.math.divide.\n"
     ]
    }
   ],
   "source": [
    "num_batch = tf.shape(beta)[0]\n",
    "\n",
    "# 1. Add shape blend shapes\n",
    "# [[N x 10] x [10 x 6890*3]] = [N x 6890*3], reshaped to [N x 6890 x 3]\n",
    "v_shaped = tf.reshape(\n",
    "                tf.matmul(beta, shapedirs, name='shape_bs'),\n",
    "                [-1, size[0], size[1]]) + v_template\n",
    "\n",
    "\n",
    "# 2. Infer shape-dependent joint locations. J is [N, 24, 3]\n",
    "Jx = tf.matmul(v_shaped[:, :, 0], J_regressor)\n",
    "Jy = tf.matmul(v_shaped[:, :, 1], J_regressor)\n",
    "Jz = tf.matmul(v_shaped[:, :, 2], J_regressor)\n",
    "J = tf.stack([Jx, Jy, Jz], axis=2)\n",
    "\n",
    "\n",
    "# 3. Add pose blend shapes\n",
    "# [N x 24 x 3 x 3]\n",
    "Rs = tf.reshape(\n",
    "            batch_rodrigues(\n",
    "                tf.reshape(theta, [-1, 3])), \n",
    "            [-1, 24, 3, 3])\n",
    "\n",
    "# Ignore global rotation. reshaped to [N, 207]\n",
    "pose_feature = tf.reshape(Rs[:, 1:, :, :] - tf.eye(3), [-1, 207])\n",
    "\n",
    "# [[N x 207] x [207, 20670]] -> [N x 6890 x 3]\n",
    "v_posed = tf.reshape(\n",
    "                tf.matmul(pose_feature, posedirs),\n",
    "                [-1, size[0], size[1]]) + v_shaped\n",
    "\n",
    "\n",
    "#4. Get the global joint location\n",
    "J_transformed, A = batch_global_rigid_transformation(Rs, J, parents)\n",
    "\n",
    "\n",
    "# 5. Do skinning:\n",
    "# weights is [6890, 24], W is [N x 6890 x 24]\n",
    "W = tf.reshape(\n",
    "                tf.tile(weights, [num_batch, 1]), \n",
    "                [num_batch, -1, 24])\n",
    "\n",
    "# [[N x 6890 x 24] x [N x 24 x 16]] -> [N x 6890 x 16]\n",
    "# reshaped to [N x 6890 x 4 x 4]\n",
    "T = tf.reshape(\n",
    "                tf.matmul(W, tf.reshape(A, [num_batch, 24, 16])),\n",
    "                [num_batch, -1, 4, 4])\n",
    "\n",
    "# [N x 6890 x 3] -> [N x 6890 x 4] (homogeneous matrix)\n",
    "v_posed_homo = tf.concat(\n",
    "                [v_posed, tf.ones([num_batch, v_posed.shape[1], 1])], 2)\n",
    "\n",
    "# [[N x 6890 x 4 x 4], [N x 6890 x 4 x 1]] -> [N x 6890 x 4 x 1]\n",
    "v_homo = tf.matmul(T, tf.expand_dims(v_posed_homo, -1))\n",
    "\n",
    "# [N x 6890 x 4 x 1] -> [N x 6890 x 3]\n",
    "verts = v_homo[:, :, :3, 0]\n",
    "\n",
    "# Get cocoplus or lsp joints:\n",
    "joint_x = tf.matmul(verts[:, :, 0], joint_regressor)\n",
    "joint_y = tf.matmul(verts[:, :, 1], joint_regressor)\n",
    "joint_z = tf.matmul(verts[:, :, 2], joint_regressor)\n",
    "joints = tf.stack([joint_x, joint_y, joint_z], axis=2)\n",
    "\n",
    "# return verts, joints, Rs"
   ]
  },
  {
   "cell_type": "code",
   "execution_count": null,
   "metadata": {},
   "outputs": [],
   "source": []
  },
  {
   "cell_type": "code",
   "execution_count": null,
   "metadata": {},
   "outputs": [],
   "source": []
  }
 ],
 "metadata": {
  "kernelspec": {
   "display_name": "Python 3",
   "language": "python",
   "name": "python3"
  },
  "language_info": {
   "codemirror_mode": {
    "name": "ipython",
    "version": 3
   },
   "file_extension": ".py",
   "mimetype": "text/x-python",
   "name": "python",
   "nbconvert_exporter": "python",
   "pygments_lexer": "ipython3",
   "version": "3.7.3"
  }
 },
 "nbformat": 4,
 "nbformat_minor": 2
}
